{
 "cells": [
  {
   "cell_type": "code",
   "execution_count": 19,
   "metadata": {
    "tags": []
   },
   "outputs": [],
   "source": [
    "# Initial imports\n",
    "import os\n",
    "import requests\n",
    "import pandas as pd\n",
    "from dotenv import load_dotenv\n",
    "import alpaca_trade_api as tradeapi\n",
    "from MCForecastTools import MCSimulation\n",
    "\n",
    "%matplotlib inline"
   ]
  },
  {
   "cell_type": "code",
   "execution_count": 20,
   "metadata": {
    "tags": []
   },
   "outputs": [
    {
     "data": {
      "text/plain": [
       "True"
      ]
     },
     "execution_count": 20,
     "metadata": {},
     "output_type": "execute_result"
    }
   ],
   "source": [
    "# Load .env enviroment variables\n",
    "load_dotenv()"
   ]
  },
  {
   "cell_type": "markdown",
   "metadata": {},
   "source": [
    "## Part 1 - Personal Finance Planner"
   ]
  },
  {
   "cell_type": "markdown",
   "metadata": {},
   "source": [
    "### Collect Crypto Prices Using the `requests` Library"
   ]
  },
  {
   "cell_type": "code",
   "execution_count": 21,
   "metadata": {
    "tags": []
   },
   "outputs": [],
   "source": [
    "# Crypto API URLs\n",
    "btc_url = \"https://api.alternative.me/v2/ticker/Bitcoin/?convert=CAD\"\n",
    "eth_url = \"https://api.alternative.me/v2/ticker/Ethereum/?convert=CAD\""
   ]
  },
  {
   "cell_type": "code",
   "execution_count": 22,
   "metadata": {
    "tags": []
   },
   "outputs": [],
   "source": [
    "# Set current amount of crypto assets\n",
    "my_btc= 1.2\n",
    "my_eth = 5.3"
   ]
  },
  {
   "cell_type": "code",
   "execution_count": 23,
   "metadata": {
    "tags": []
   },
   "outputs": [],
   "source": [
    "# Fetch current BTC price\n",
    "btc_url = btc_url\n",
    "eth_url = eth_url"
   ]
  },
  {
   "cell_type": "code",
   "execution_count": 24,
   "metadata": {
    "tags": []
   },
   "outputs": [
    {
     "data": {
      "text/plain": [
       "<Response [200]>"
      ]
     },
     "execution_count": 24,
     "metadata": {},
     "output_type": "execute_result"
    }
   ],
   "source": [
    "requests.get(btc_url)\n",
    "requests.get(eth_url)"
   ]
  },
  {
   "cell_type": "code",
   "execution_count": 25,
   "metadata": {
    "tags": []
   },
   "outputs": [
    {
     "data": {
      "text/plain": [
       "{'data': {'1': {'id': 1,\n",
       "   'name': 'Bitcoin',\n",
       "   'symbol': 'BTC',\n",
       "   'website_slug': 'bitcoin',\n",
       "   'rank': 1,\n",
       "   'circulating_supply': 19497425,\n",
       "   'total_supply': 19497425,\n",
       "   'max_supply': 21000000,\n",
       "   'quotes': {'USD': {'price': 26663.0,\n",
       "     'volume_24h': 12413814034,\n",
       "     'market_cap': 520528138672,\n",
       "     'percentage_change_1h': -0.219738384341989,\n",
       "     'percentage_change_24h': 1.69019007016717,\n",
       "     'percentage_change_7d': -1.51062519688846,\n",
       "     'percent_change_1h': -0.219738384341989,\n",
       "     'percent_change_24h': 1.69019007016717,\n",
       "     'percent_change_7d': -1.51062519688846},\n",
       "    'CAD': {'price': 36221.6855,\n",
       "     'volume_24h': 16864166365.189,\n",
       "     'market_cap': 707137476385.912,\n",
       "     'percent_change_1h': -0.219738384341989,\n",
       "     'percent_change_24h': 1.69019007016717,\n",
       "     'percent_change_7d': -1.51062519688846}},\n",
       "   'last_updated': 1695822597}},\n",
       " 'metadata': {'timestamp': 1695822597,\n",
       "  'num_cryptocurrencies': 3119,\n",
       "  'error': None}}"
      ]
     },
     "execution_count": 25,
     "metadata": {},
     "output_type": "execute_result"
    }
   ],
   "source": [
    "# Execute GET request and store response\n",
    "response_data1 = requests.get(btc_url).json()\n",
    "response_data2 = requests.get(eth_url).json()\n",
    "\n",
    "#To Preview data1\n",
    "response_data1"
   ]
  },
  {
   "cell_type": "code",
   "execution_count": 26,
   "metadata": {
    "tags": []
   },
   "outputs": [
    {
     "data": {
      "text/plain": [
       "{'data': {'1027': {'id': 1027,\n",
       "   'name': 'Ethereum',\n",
       "   'symbol': 'ETH',\n",
       "   'website_slug': 'ethereum',\n",
       "   'rank': 2,\n",
       "   'circulating_supply': 120233868,\n",
       "   'total_supply': 120233868,\n",
       "   'max_supply': 120233868,\n",
       "   'quotes': {'USD': {'price': 1620.13,\n",
       "     'volume_24h': 7460442624,\n",
       "     'market_cap': 195075686967,\n",
       "     'percentage_change_1h': -0.143338356944123,\n",
       "     'percentage_change_24h': 2.08189325302946,\n",
       "     'percentage_change_7d': -0.405094785902488,\n",
       "     'percent_change_1h': -0.143338356944123,\n",
       "     'percent_change_24h': 2.08189325302946,\n",
       "     'percent_change_7d': -0.405094785902488},\n",
       "    'CAD': {'price': 2200.946605,\n",
       "     'volume_24h': 10135011304.704,\n",
       "     'market_cap': 265010320744.67,\n",
       "     'percent_change_1h': -0.143338356944123,\n",
       "     'percent_change_24h': 2.08189325302946,\n",
       "     'percent_change_7d': -0.405094785902488}},\n",
       "   'last_updated': 1695822598}},\n",
       " 'metadata': {'timestamp': 1695822598,\n",
       "  'num_cryptocurrencies': 3119,\n",
       "  'error': None}}"
      ]
     },
     "execution_count": 26,
     "metadata": {},
     "output_type": "execute_result"
    }
   ],
   "source": [
    "#data2\n",
    "response_data2"
   ]
  },
  {
   "cell_type": "code",
   "execution_count": 27,
   "metadata": {
    "tags": []
   },
   "outputs": [
    {
     "data": {
      "text/plain": [
       "1620.13"
      ]
     },
     "execution_count": 27,
     "metadata": {},
     "output_type": "execute_result"
    }
   ],
   "source": [
    "# to allocate the price\n",
    "response_data1[\"data\"][\"1\"][\"quotes\"][\"USD\"][\"price\"]\n",
    "response_data2[\"data\"][\"1027\"][\"quotes\"][\"USD\"][\"price\"]"
   ]
  },
  {
   "cell_type": "code",
   "execution_count": 28,
   "metadata": {
    "tags": []
   },
   "outputs": [],
   "source": [
    "# to find the current asset value\n",
    "BTC_asset_value= response_data1[\"data\"][\"1\"][\"quotes\"][\"USD\"][\"price\"] * my_btc\n",
    "ETH_asset_value= response_data2[\"data\"][\"1027\"][\"quotes\"][\"USD\"][\"price\"] * my_eth"
   ]
  },
  {
   "cell_type": "code",
   "execution_count": 29,
   "metadata": {
    "tags": []
   },
   "outputs": [
    {
     "name": "stdout",
     "output_type": "stream",
     "text": [
      "The current value of your 1.2 BTC is $31995.60\n",
      "The current value of your 5.3 ETH is $8586.69\n"
     ]
    }
   ],
   "source": [
    "# Print current crypto wallet balance\n",
    "print(f\"The current value of your {my_btc} BTC is ${BTC_asset_value:0.2f}\")\n",
    "print(f\"The current value of your {my_eth} ETH is ${ETH_asset_value:0.2f}\")"
   ]
  },
  {
   "cell_type": "code",
   "execution_count": null,
   "metadata": {},
   "outputs": [],
   "source": []
  },
  {
   "cell_type": "markdown",
   "metadata": {},
   "source": [
    "### Collect Investments Data Using Alpaca: `SPY` (stocks) and `AGG` (bonds)"
   ]
  },
  {
   "cell_type": "code",
   "execution_count": 30,
   "metadata": {
    "tags": []
   },
   "outputs": [
    {
     "data": {
      "text/html": [
       "<div>\n",
       "<style scoped>\n",
       "    .dataframe tbody tr th:only-of-type {\n",
       "        vertical-align: middle;\n",
       "    }\n",
       "\n",
       "    .dataframe tbody tr th {\n",
       "        vertical-align: top;\n",
       "    }\n",
       "\n",
       "    .dataframe thead th {\n",
       "        text-align: right;\n",
       "    }\n",
       "</style>\n",
       "<table border=\"1\" class=\"dataframe\">\n",
       "  <thead>\n",
       "    <tr style=\"text-align: right;\">\n",
       "      <th></th>\n",
       "      <th>shares</th>\n",
       "    </tr>\n",
       "  </thead>\n",
       "  <tbody>\n",
       "    <tr>\n",
       "      <th>AGG</th>\n",
       "      <td>200</td>\n",
       "    </tr>\n",
       "    <tr>\n",
       "      <th>SPY</th>\n",
       "      <td>50</td>\n",
       "    </tr>\n",
       "  </tbody>\n",
       "</table>\n",
       "</div>"
      ],
      "text/plain": [
       "     shares\n",
       "AGG     200\n",
       "SPY      50"
      ]
     },
     "execution_count": 30,
     "metadata": {},
     "output_type": "execute_result"
    }
   ],
   "source": [
    "# Set current amount of shares\n",
    "my_agg = 200\n",
    "my_spy = 50\n",
    "\n",
    "shares= {\"shares\": [200, 50]}\n",
    "\n",
    "# Set the tickers\n",
    "tickers = [\"AGG\", \"SPY\"]\n",
    "\n",
    "\n",
    "# Create the shares DataFrame with `tickers` as index\n",
    "shares_numbers = pd.DataFrame(shares, index=tickers)\n",
    "\n",
    "# Display shares data\n",
    "shares_numbers"
   ]
  },
  {
   "cell_type": "code",
   "execution_count": 31,
   "metadata": {
    "tags": []
   },
   "outputs": [],
   "source": [
    "# Set Alpaca API key and secret\n",
    "alpaca_api_key = os.getenv(\"ALPACA_API_KEY\")\n",
    "alpaca_secret_key = os.getenv(\"ALPACA_SECRET_KEY\")\n",
    "\n",
    "api = tradeapi.REST(\n",
    "    alpaca_api_key,\n",
    "    alpaca_secret_key,\n",
    "    api_version = \"v2\"\n",
    ")"
   ]
  },
  {
   "cell_type": "code",
   "execution_count": 32,
   "metadata": {
    "tags": []
   },
   "outputs": [],
   "source": [
    "# Get current closing prices for SPY and AGG\n",
    "today = pd.Timestamp(\"2023-09-25\", tz=\"America/New_York\").isoformat()\n",
    "\n",
    "# Set timeframe to \"1Day\" for Alpaca API\n",
    "timeframe = \"1Day\"\n",
    "\n",
    "# Create the Alpaca API object\n",
    "alpaca = tradeapi.REST(\n",
    "    alpaca_api_key,\n",
    "    alpaca_secret_key,\n",
    "    api_version=\"v2\")\n"
   ]
  },
  {
   "cell_type": "code",
   "execution_count": 38,
   "metadata": {
    "tags": []
   },
   "outputs": [
    {
     "data": {
      "text/html": [
       "<div>\n",
       "<style scoped>\n",
       "    .dataframe tbody tr th:only-of-type {\n",
       "        vertical-align: middle;\n",
       "    }\n",
       "\n",
       "    .dataframe tbody tr th {\n",
       "        vertical-align: top;\n",
       "    }\n",
       "\n",
       "    .dataframe thead th {\n",
       "        text-align: right;\n",
       "    }\n",
       "</style>\n",
       "<table border=\"1\" class=\"dataframe\">\n",
       "  <thead>\n",
       "    <tr style=\"text-align: right;\">\n",
       "      <th></th>\n",
       "      <th>open</th>\n",
       "      <th>high</th>\n",
       "      <th>low</th>\n",
       "      <th>close</th>\n",
       "      <th>volume</th>\n",
       "      <th>trade_count</th>\n",
       "      <th>vwap</th>\n",
       "      <th>symbol</th>\n",
       "    </tr>\n",
       "    <tr>\n",
       "      <th>timestamp</th>\n",
       "      <th></th>\n",
       "      <th></th>\n",
       "      <th></th>\n",
       "      <th></th>\n",
       "      <th></th>\n",
       "      <th></th>\n",
       "      <th></th>\n",
       "      <th></th>\n",
       "    </tr>\n",
       "  </thead>\n",
       "  <tbody>\n",
       "    <tr>\n",
       "      <th>2023-09-25 04:00:00+00:00</th>\n",
       "      <td>94.49</td>\n",
       "      <td>94.6175</td>\n",
       "      <td>94.285</td>\n",
       "      <td>94.30</td>\n",
       "      <td>7485388</td>\n",
       "      <td>25131</td>\n",
       "      <td>94.415114</td>\n",
       "      <td>AGG</td>\n",
       "    </tr>\n",
       "    <tr>\n",
       "      <th>2023-09-25 04:00:00+00:00</th>\n",
       "      <td>429.17</td>\n",
       "      <td>432.2700</td>\n",
       "      <td>428.720</td>\n",
       "      <td>432.23</td>\n",
       "      <td>70893062</td>\n",
       "      <td>488407</td>\n",
       "      <td>430.901010</td>\n",
       "      <td>SPY</td>\n",
       "    </tr>\n",
       "  </tbody>\n",
       "</table>\n",
       "</div>"
      ],
      "text/plain": [
       "                             open      high      low   close    volume  \\\n",
       "timestamp                                                                \n",
       "2023-09-25 04:00:00+00:00   94.49   94.6175   94.285   94.30   7485388   \n",
       "2023-09-25 04:00:00+00:00  429.17  432.2700  428.720  432.23  70893062   \n",
       "\n",
       "                           trade_count        vwap symbol  \n",
       "timestamp                                                  \n",
       "2023-09-25 04:00:00+00:00        25131   94.415114    AGG  \n",
       "2023-09-25 04:00:00+00:00       488407  430.901010    SPY  "
      ]
     },
     "execution_count": 38,
     "metadata": {},
     "output_type": "execute_result"
    }
   ],
   "source": [
    "# Get current price data for MSFT and AAPL\n",
    "df_shares = alpaca.get_bars(\n",
    "    tickers,\n",
    "    timeframe,\n",
    "    start = today,\n",
    "    end = today\n",
    ").df\n",
    "\n",
    "df_shares"
   ]
  },
  {
   "cell_type": "code",
   "execution_count": 39,
   "metadata": {
    "tags": []
   },
   "outputs": [],
   "source": [
    "# Separate ticker data\n",
    "AGG = df_shares[df_shares[\"symbol\"]==\"AGG\"].drop(\"symbol\", axis=1)\n",
    "SPY = df_shares[df_shares[\"symbol\"]==\"SPY\"].drop(\"symbol\", axis=1)"
   ]
  },
  {
   "cell_type": "code",
   "execution_count": 40,
   "metadata": {
    "tags": []
   },
   "outputs": [],
   "source": [
    "# Concatenate the ticker DataFrames\n",
    "df_shares = pd.concat([AGG, SPY], axis=1, keys=[\"AGG\",\"SPY\"])\n",
    "\n",
    "# Drop the time component of the date\n",
    "df_shares.index = df_shares.index.date"
   ]
  },
  {
   "cell_type": "code",
   "execution_count": 41,
   "metadata": {
    "tags": []
   },
   "outputs": [
    {
     "data": {
      "text/html": [
       "<div>\n",
       "<style scoped>\n",
       "    .dataframe tbody tr th:only-of-type {\n",
       "        vertical-align: middle;\n",
       "    }\n",
       "\n",
       "    .dataframe tbody tr th {\n",
       "        vertical-align: top;\n",
       "    }\n",
       "\n",
       "    .dataframe thead tr th {\n",
       "        text-align: left;\n",
       "    }\n",
       "</style>\n",
       "<table border=\"1\" class=\"dataframe\">\n",
       "  <thead>\n",
       "    <tr>\n",
       "      <th></th>\n",
       "      <th colspan=\"7\" halign=\"left\">AGG</th>\n",
       "      <th colspan=\"7\" halign=\"left\">SPY</th>\n",
       "    </tr>\n",
       "    <tr>\n",
       "      <th></th>\n",
       "      <th>open</th>\n",
       "      <th>high</th>\n",
       "      <th>low</th>\n",
       "      <th>close</th>\n",
       "      <th>volume</th>\n",
       "      <th>trade_count</th>\n",
       "      <th>vwap</th>\n",
       "      <th>open</th>\n",
       "      <th>high</th>\n",
       "      <th>low</th>\n",
       "      <th>close</th>\n",
       "      <th>volume</th>\n",
       "      <th>trade_count</th>\n",
       "      <th>vwap</th>\n",
       "    </tr>\n",
       "  </thead>\n",
       "  <tbody>\n",
       "    <tr>\n",
       "      <th>2023-09-25</th>\n",
       "      <td>94.49</td>\n",
       "      <td>94.6175</td>\n",
       "      <td>94.285</td>\n",
       "      <td>94.3</td>\n",
       "      <td>7485388</td>\n",
       "      <td>25131</td>\n",
       "      <td>94.415114</td>\n",
       "      <td>429.17</td>\n",
       "      <td>432.27</td>\n",
       "      <td>428.72</td>\n",
       "      <td>432.23</td>\n",
       "      <td>70893062</td>\n",
       "      <td>488407</td>\n",
       "      <td>430.90101</td>\n",
       "    </tr>\n",
       "  </tbody>\n",
       "</table>\n",
       "</div>"
      ],
      "text/plain": [
       "              AGG                                                         \\\n",
       "             open     high     low close   volume trade_count       vwap   \n",
       "2023-09-25  94.49  94.6175  94.285  94.3  7485388       25131  94.415114   \n",
       "\n",
       "               SPY                                                           \n",
       "              open    high     low   close    volume trade_count       vwap  \n",
       "2023-09-25  429.17  432.27  428.72  432.23  70893062      488407  430.90101  "
      ]
     },
     "execution_count": 41,
     "metadata": {},
     "output_type": "execute_result"
    }
   ],
   "source": [
    "# Preview DataFrame\n",
    "df_shares"
   ]
  },
  {
   "cell_type": "code",
   "execution_count": 42,
   "metadata": {
    "tags": []
   },
   "outputs": [
    {
     "data": {
      "text/html": [
       "<div>\n",
       "<style scoped>\n",
       "    .dataframe tbody tr th:only-of-type {\n",
       "        vertical-align: middle;\n",
       "    }\n",
       "\n",
       "    .dataframe tbody tr th {\n",
       "        vertical-align: top;\n",
       "    }\n",
       "\n",
       "    .dataframe thead th {\n",
       "        text-align: right;\n",
       "    }\n",
       "</style>\n",
       "<table border=\"1\" class=\"dataframe\">\n",
       "  <thead>\n",
       "    <tr style=\"text-align: right;\">\n",
       "      <th></th>\n",
       "      <th>AGG</th>\n",
       "      <th>SPY</th>\n",
       "    </tr>\n",
       "  </thead>\n",
       "  <tbody>\n",
       "    <tr>\n",
       "      <th>2023-09-25</th>\n",
       "      <td>94.3</td>\n",
       "      <td>432.23</td>\n",
       "    </tr>\n",
       "  </tbody>\n",
       "</table>\n",
       "</div>"
      ],
      "text/plain": [
       "             AGG     SPY\n",
       "2023-09-25  94.3  432.23"
      ]
     },
     "execution_count": 42,
     "metadata": {},
     "output_type": "execute_result"
    }
   ],
   "source": [
    "# Create and empty DataFrame for closing prices\n",
    "df_closing_prices = pd.DataFrame()\n",
    "\n",
    "# Fetch the closing prices of AGG and SPY\n",
    "df_closing_prices[\"AGG\"] = df_shares[\"AGG\"][\"close\"]\n",
    "df_closing_prices[\"SPY\"] = df_shares[\"SPY\"][\"close\"]\n",
    "\n",
    "df_closing_prices"
   ]
  },
  {
   "cell_type": "code",
   "execution_count": 43,
   "metadata": {
    "tags": []
   },
   "outputs": [
    {
     "data": {
      "text/plain": [
       "94.3"
      ]
     },
     "execution_count": 43,
     "metadata": {},
     "output_type": "execute_result"
    }
   ],
   "source": [
    "# Pick AGG and SPY close prices\n",
    "agg_close_price = df_closing_prices[\"AGG\"].iloc[0]\n",
    "spy_close_price=df_closing_prices[\"SPY\"].iloc[0]\n",
    "agg_close_price"
   ]
  },
  {
   "cell_type": "code",
   "execution_count": 44,
   "metadata": {
    "tags": []
   },
   "outputs": [
    {
     "name": "stdout",
     "output_type": "stream",
     "text": [
      "Current AGG closing price: $94.3\n",
      "Current SPY closing price: $432.23\n"
     ]
    }
   ],
   "source": [
    "# Print AGG and SPY close prices\n",
    "print(f\"Current AGG closing price: ${agg_close_price}\")\n",
    "print(f\"Current SPY closing price: ${spy_close_price}\")"
   ]
  },
  {
   "cell_type": "code",
   "execution_count": 45,
   "metadata": {
    "tags": []
   },
   "outputs": [
    {
     "name": "stdout",
     "output_type": "stream",
     "text": [
      "The current value of your 50 SPY shares is $21611.50\n",
      "The current value of your 200 AGG shares is $18860.00\n"
     ]
    }
   ],
   "source": [
    "# Compute the current value of shares\n",
    "my_agg_value = my_agg * agg_close_price\n",
    "my_spy_value = my_spy * spy_close_price\n",
    "# Print current value of shares\n",
    "print(f\"The current value of your {my_spy} SPY shares is ${my_spy_value:0.2f}\")\n",
    "print(f\"The current value of your {my_agg} AGG shares is ${my_agg_value:0.2f}\")"
   ]
  },
  {
   "cell_type": "markdown",
   "metadata": {},
   "source": [
    "### Savings Health Analysis"
   ]
  },
  {
   "cell_type": "code",
   "execution_count": 50,
   "metadata": {
    "tags": []
   },
   "outputs": [
    {
     "data": {
      "text/plain": [
       "40471.5"
      ]
     },
     "execution_count": 50,
     "metadata": {},
     "output_type": "execute_result"
    }
   ],
   "source": [
    "# Set monthly household income\n",
    "monthly_income = 6000\n",
    "\n",
    "# Consolidate financial assets data\n",
    "Shares = my_agg_value + my_spy_value\n",
    "Shares\n",
    "\n"
   ]
  },
  {
   "cell_type": "code",
   "execution_count": 49,
   "metadata": {
    "tags": []
   },
   "outputs": [
    {
     "data": {
      "text/plain": [
       "40582.289"
      ]
     },
     "execution_count": 49,
     "metadata": {},
     "output_type": "execute_result"
    }
   ],
   "source": [
    "# Total Crytp current value\n",
    "Crypto = BTC_asset_value+ETH_asset_value\n",
    "Crypto"
   ]
  },
  {
   "cell_type": "code",
   "execution_count": 55,
   "metadata": {
    "tags": []
   },
   "outputs": [
    {
     "data": {
      "text/html": [
       "<div>\n",
       "<style scoped>\n",
       "    .dataframe tbody tr th:only-of-type {\n",
       "        vertical-align: middle;\n",
       "    }\n",
       "\n",
       "    .dataframe tbody tr th {\n",
       "        vertical-align: top;\n",
       "    }\n",
       "\n",
       "    .dataframe thead th {\n",
       "        text-align: right;\n",
       "    }\n",
       "</style>\n",
       "<table border=\"1\" class=\"dataframe\">\n",
       "  <thead>\n",
       "    <tr style=\"text-align: right;\">\n",
       "      <th></th>\n",
       "      <th>Value</th>\n",
       "    </tr>\n",
       "  </thead>\n",
       "  <tbody>\n",
       "    <tr>\n",
       "      <th>Crypto</th>\n",
       "      <td>40471.500</td>\n",
       "    </tr>\n",
       "    <tr>\n",
       "      <th>Equity</th>\n",
       "      <td>40582.289</td>\n",
       "    </tr>\n",
       "  </tbody>\n",
       "</table>\n",
       "</div>"
      ],
      "text/plain": [
       "            Value\n",
       "Crypto  40471.500\n",
       "Equity  40582.289"
      ]
     },
     "execution_count": 55,
     "metadata": {},
     "output_type": "execute_result"
    }
   ],
   "source": [
    "Value= {\"Value\": [Shares, Crypto]}\n",
    "\n",
    "# Set the tickers\n",
    "tickers_2 = [\"Crypto\", \"Equity\"]\n",
    "\n",
    "# Create the holdingsDataFrame with `tickers` as index\n",
    "Holdings = pd.DataFrame(Value, index=tickers_2)\n",
    "\n",
    "# Display shares data\n",
    "Holdings"
   ]
  },
  {
   "cell_type": "code",
   "execution_count": 71,
   "metadata": {
    "tags": []
   },
   "outputs": [
    {
     "data": {
      "image/png": "[encoded data removed]",
      "text/plain": [
       "<Figure size 500x500 with 1 Axes>"
      ]
     },
     "metadata": {},
     "output_type": "display_data"
    }
   ],
   "source": [
    "# Plot savings pie chart\n",
    "df = pd.DataFrame({'current value': [Crypto, Shares]}, index=['Crypto', 'Equity'])\n",
    "plot = df.plot.pie(y='current value', figsize=(5, 5))"
   ]
  },
  {
   "cell_type": "code",
   "execution_count": 72,
   "metadata": {
    "tags": []
   },
   "outputs": [
    {
     "data": {
      "image/png": "[encoded data removed]",
      "text/plain": [
       "<Figure size 640x480 with 1 Axes>"
      ]
     },
     "metadata": {},
     "output_type": "display_data"
    }
   ],
   "source": [
    "# Plot savings bar chart\n",
    "dist_plot = Holdings.plot(kind=\"bar\")"
   ]
  },
  {
   "cell_type": "code",
   "execution_count": 94,
   "metadata": {
    "tags": []
   },
   "outputs": [
    {
     "name": "stdout",
     "output_type": "stream",
     "text": [
      "Congratulations! You have enough money in your emergency fund\n",
      "63053.79\n"
     ]
    }
   ],
   "source": [
    "# Set ideal emergency fund\n",
    "emergency_fund = monthly_income * 3\n",
    "total_holdings = Shares + Crypto\n",
    "# Calculate total amount of savings\n",
    "total_savings = total_holdings - emergency_fund\n",
    "\n",
    "# Validate saving health\n",
    "if total_savings>0:\n",
    "    print(\"Congratulations! You have enough money in your emergency fund\")\n",
    "    print(f\"{total_savings:0.2f}\")\n",
    "elif total_savings<0:\n",
    "    print(\"You do not have enough money in your emergency fund\")"
   ]
  },
  {
   "cell_type": "code",
   "execution_count": null,
   "metadata": {},
   "outputs": [],
   "source": []
  }
 ],
 "metadata": {
  "kernelspec": {
   "display_name": "Python 3 (ipykernel)",
   "language": "python",
   "name": "python3"
  },
  "language_info": {
   "codemirror_mode": {
    "name": "ipython",
    "version": 3
   },
   "file_extension": ".py",
   "mimetype": "text/x-python",
   "name": "python",
   "nbconvert_exporter": "python",
   "pygments_lexer": "ipython3",
   "version": "3.10.12"
  },
  "nteract": {
   "version": "0.28.0"
  }
 },
 "nbformat": 4,
 "nbformat_minor": 4
}
